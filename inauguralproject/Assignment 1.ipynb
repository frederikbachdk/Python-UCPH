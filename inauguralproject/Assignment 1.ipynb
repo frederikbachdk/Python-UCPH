{
 "cells": [
  {
   "cell_type": "markdown",
   "id": "functional-vietnamese",
   "metadata": {},
   "source": [
    "# Inaugural Project - Housing demand and taxation\n",
    "### Introduction to Programming and Numerical Analysis\n",
    "\n",
    "**University of Copenhagen, 21 March 2021**\n",
    "\n",
    "Hand-in by Magnus Bugge, Jens Brøndum Petersen, and Frederik Bach\n",
    "\n",
    "# Housing demand and taxation\n",
    "\n",
    "We consider a household looking to buy a home. The household is endowed with an amount of cash-on-hand, $m$, that may spent on housing as well as other consumption $c$. The household derives utility from housing by a measure of its quality, $h$. A home of quality $h$ has the price $ph$ and is subject to progressive taxation and mortgage costs, summarized by the function $\\tau(\\cdot)$. The objective of the household is therefore to choose optimal amounts of housing and consumption.\n",
    "\n",
    "**Problem 1 - Household utility maximization** \n",
    "\n",
    "The representative household's problem is given by:\n",
    "\n",
    "$$c^*, h^* = \\arg \\underset{c,h}{\\max} c^{1-\\phi}h^\\phi \\\\\n",
    "                s.t. \\\\\n",
    "    \\tilde{p}_h = p_h\\varepsilon \\\\\n",
    "              m = \\tau(p_h,\\tilde{p}_h)+c \\\\\n",
    "\\tau(p_h,\\tilde{p}_h = rp_h+\\tau^h\\tilde{p}_h+\\tau^p\\max\\{\\tilde{p}_h-\\bar{p},0\\}$$ "
   ]
  },
  {
   "cell_type": "markdown",
   "id": "smoking-blank",
   "metadata": {},
   "source": [
    "We take as given the default parameters: \n",
    "$\\phi = 0.3, \\varepsilon = 0.5, r = 0.03, \\tau^g = 0.012, \\tau^g = 0.004, \n",
    "\\bar{p} = 3$\n",
    "\n",
    "The parameters are defined in the dictionary 'parameters' in the code section below."
   ]
  },
  {
   "cell_type": "code",
   "execution_count": 45,
   "id": "intense-symphony",
   "metadata": {},
   "outputs": [],
   "source": [
    "# import numpy for array operations and the scipy optimize module for optimization\n",
    "import numpy as np\n",
    "from scipy import optimize\n",
    "\n",
    "# create a dictionary containing the parameters given\n",
    "parameters = {'phi': 0.3, 'eps': 0.5, 'r': 0.03, 'tau_g': 0.012, \n",
    "              'tau_p': 0.004, 'p_bar': 3, 'm': 0.5}"
   ]
  },
  {
   "cell_type": "markdown",
   "id": "advance-handling",
   "metadata": {},
   "source": [
    "Now, we construct the utility function along with the maximization constraints as individual functions:"
   ]
  },
  {
   "cell_type": "code",
   "execution_count": 46,
   "id": "reasonable-premises",
   "metadata": {},
   "outputs": [],
   "source": [
    "def utility_function(c, h, parameters):\n",
    "    \"\"\" Defines utility function based on consumption bundle and parameters        \n",
    "    \n",
    "    Args:\n",
    "        c (float): amount of consumption in non-housing goods \n",
    "        h (float): housing consumption\n",
    "        parameters (dict): dictionary of parameters wrt. policy and preferences\n",
    "        \n",
    "    Returns:\n",
    "        u (float): utility        \n",
    "    \"\"\"\n",
    "\n",
    "    u = c**(1-parameters['phi']) * h**parameters['phi']\n",
    "    return u\n",
    "\n",
    "\n",
    "def taxes_paid(h, parameters):\n",
    "    \"\"\" Calculates the cash amount of taxes paid by the individual household given the choice of house quality      \n",
    "    \n",
    "    Args:\n",
    "        h (float): housing consumption\n",
    "        parameters (dict): dictionary of parameters wrt. policy and preferences\n",
    "        \n",
    "    Returns:\n",
    "        taxes (float): cash amount of taxes paid\n",
    "    \"\"\"\n",
    "    \n",
    "    taxes = parameters['r'] * h + parameters['tau_g'] * h * parameters['eps'] + parameters['tau_p'] * max(h * parameters['eps'] - parameters['p_bar'], 0)\n",
    "    return taxes\n",
    "    \n",
    "    \n",
    "def budget_constraint(h, parameters):\n",
    "    \"\"\" Defines the budget constraint of the household, which says that consumption is equal to the cash-on-hand minus tax expenditure   \n",
    "    \n",
    "    Args:\n",
    "        h (float): housing consumption\n",
    "        parameters (dict): dictionary of parameters wrt. policy and preferences\n",
    "        \n",
    "    Returns:\n",
    "        c (float): the upper limit (budget constraint) for consumption in non-housing goods\n",
    "    \"\"\" \n",
    "    \n",
    "    c = parameters['m'] - taxes_paid(h, parameters)\n",
    "    return c"
   ]
  },
  {
   "cell_type": "markdown",
   "id": "linear-texture",
   "metadata": {},
   "source": [
    "Now, we define the objective function and maximize it wrt. c and h"
   ]
  },
  {
   "cell_type": "code",
   "execution_count": 47,
   "id": "selected-nylon",
   "metadata": {},
   "outputs": [
    {
     "name": "stdout",
     "output_type": "stream",
     "text": [
      "4.1666666039527485\n",
      "0.35000000225770106\n",
      "0.7358414678061572\n"
     ]
    }
   ],
   "source": [
    "# objective function (we maximize it by minimizing the negative utility function)\n",
    "def value_of_choice(h, parameters):\n",
    "    \"\"\" Defines the objective function to be optimized\n",
    "    \n",
    "    Args:\n",
    "        h (float): housing consumption\n",
    "        parameters (dict): dictionary of parameters wrt. policy and preferences\n",
    "        \n",
    "    Returns:\n",
    "        -utility_function (float): the negative of the implied utility from consumption c and h\n",
    "    \"\"\" \n",
    "\n",
    "    c = budget_constraint(h, parameters)\n",
    "    return -utility_function(c, h, parameters)\n",
    "\n",
    "\n",
    "# use the optimizer from the scipy package to optimize value_of_choice\n",
    "solution = optimize.minimize_scalar(\n",
    "    value_of_choice, bounds = None, args = (parameters))\n",
    "\n",
    "\n",
    "# save the optimal consumption bundle and the implied utility the variables h, c, and u\n",
    "h = solution.x\n",
    "c = budget_constraint(h, parameters)\n",
    "u = utility_function(c, h, parameters)\n",
    "\n",
    "# print the solution\n",
    "print(h)\n",
    "print(c)\n",
    "print(u)"
   ]
  },
  {
   "cell_type": "markdown",
   "id": "shaped-candy",
   "metadata": {},
   "source": [
    "**Problem 2 - Plot of c* and h* as functions of m in the range 0.4 to 1.5** "
   ]
  },
  {
   "cell_type": "code",
   "execution_count": 56,
   "id": "extreme-result",
   "metadata": {},
   "outputs": [
    {
     "name": "stdout",
     "output_type": "stream",
     "text": [
      "        m          h       c\n",
      "0    0.40   3.333333  0.2800\n",
      "1    0.41   3.416667  0.2870\n",
      "2    0.42   3.500000  0.2940\n",
      "3    0.43   3.583333  0.3010\n",
      "4    0.44   3.666667  0.3080\n",
      "..    ...        ...     ...\n",
      "105  1.45  11.542105  1.0234\n",
      "106  1.46  11.621053  1.0304\n",
      "107  1.47  11.700000  1.0374\n",
      "108  1.48  11.778948  1.0444\n",
      "109  1.49  11.857895  1.0514\n",
      "\n",
      "[110 rows x 3 columns]\n"
     ]
    }
   ],
   "source": [
    "# import the pandas package for dataframe\n",
    "import pandas as pd\n",
    "\n",
    "# define a range of endowments, m, to be iterated over\n",
    "m_range = np.arange(0.4, 1.5, 0.01).tolist()\n",
    "\n",
    "# initialize an empty array\n",
    "solutions = []\n",
    "\n",
    "# use the optimization algorithm from problem 1 for all m's in m_range\n",
    "for m in m_range:\n",
    "    parameters['m'] = m\n",
    "    solution = optimize.minimize_scalar(\n",
    "    value_of_choice, bounds = None, args = (parameters))\n",
    "    h = solution.x\n",
    "    c = budget_constraint(h, parameters)\n",
    "    solutions.append([m, h, c])\n",
    "\n",
    "# save the solutions in a pandas dataframe and print it\n",
    "solutions = pd.DataFrame(solutions, columns=[\"m\", \"h\", \"c\"])\n",
    "#print(solutions)"
   ]
  },
  {
   "cell_type": "markdown",
   "id": "documented-trouble",
   "metadata": {},
   "source": [
    "Now, after obtaining a dataframe of 110 solutions to the household's problem, we plot it using the matplotlib package"
   ]
  },
  {
   "cell_type": "code",
   "execution_count": 59,
   "id": "crude-means",
   "metadata": {},
   "outputs": [
    {
     "data": {
      "image/png": "[encoded data removed]",
      "text/plain": [
       "<Figure size 432x288 with 1 Axes>"
      ]
     },
     "metadata": {
      "needs_background": "light"
     },
     "output_type": "display_data"
    }
   ],
   "source": [
    "# import the matplotlib pyplot module package for the plot\n",
    "import matplotlib.pyplot as plt\n",
    "\n",
    "# plot the solution dataframe\n",
    "m_axis = plt.gca()\n",
    "solutions.plot(x = 'm', y = 'h', ax = m_axis, title = 'Figure 1: Optimal consumption bundles');\n",
    "solutions.plot(x = 'm', y = 'c', ax = m_axis, color = 'red');"
   ]
  },
  {
   "cell_type": "markdown",
   "id": "painted-insulin",
   "metadata": {},
   "source": [
    "From figure 1, we see that the consumption bundle is increasing in both goods for increasing endowments, which is a result of the monotonous utility function.\n",
    "\n",
    "What is interesting here is that around the endowment m = 0.72, the households begin buying houses that are taxed in the higher tax bracket. Initially,\n",
    "\n",
    "this causes the households to being reluctant on buying more expensive houses, since the marginal utility on consumption is higher. However, when the \n",
    "\n",
    "endowment reaches a certain point, the households again begin buying more and more expensive houses."
   ]
  },
  {
   "cell_type": "markdown",
   "id": "premium-marine",
   "metadata": {},
   "source": [
    "**Problem 3 - Average tax burden** \n",
    "\n",
    "Here, we calculate the average tax burden among 10,000 households assuming that cash endowments follow a log-normal distribution."
   ]
  },
  {
   "cell_type": "code",
   "execution_count": 75,
   "id": "adopted-while",
   "metadata": {},
   "outputs": [
    {
     "name": "stdout",
     "output_type": "stream",
     "text": [
      "0.08068501885378469\n"
     ]
    }
   ],
   "source": [
    "# set the number of households and the seed number\n",
    "N = 10000\n",
    "seed = 420\n",
    "\n",
    "# draw list of 10,000 cash endowments from the lognormal distributions\n",
    "np.random.seed(seed)\n",
    "m_sim = np.random.lognormal(mean=-0.4,sigma=0.35,size=N).tolist()\n",
    "\n",
    "# initialize an empty array\n",
    "solutions_sim = []\n",
    "\n",
    "# use the optimization algorithm from problem 1 for all 10,000 m's in m_sim\n",
    "for m in m_sim:\n",
    "    parameters['m'] = m\n",
    "    sol_case1 = optimize.minimize_scalar(\n",
    "    value_of_choice, bounds = None, args = (parameters))\n",
    "    h = sol_case1.x\n",
    "    c = budget_constraint(h, parameters)\n",
    "    solutions_sim.append(h)\n",
    "\n",
    "# calculate the average tax burden as t = T/N, where T is the total tax payment and N is the number of households\n",
    "T = 0\n",
    "for h in solutions_sim:\n",
    "    # for each iteration, calculate one household's tax burden\n",
    "    T+=parameters['tau_g']*h + parameters['tau_p'] * max(h-parameters['p_bar'], 0) \n",
    "t = T/N\n",
    "print(t)"
   ]
  },
  {
   "cell_type": "markdown",
   "id": "fatal-institute",
   "metadata": {},
   "source": [
    "Now, we plot the distributions of h and c given the simulations of the cash endowment."
   ]
  },
  {
   "cell_type": "code",
   "execution_count": 80,
   "id": "substantial-packet",
   "metadata": {},
   "outputs": [
    {
     "data": {
      "text/plain": [
       "<seaborn.axisgrid.FacetGrid at 0x7ff4f0d30d60>"
      ]
     },
     "execution_count": 80,
     "metadata": {},
     "output_type": "execute_result"
    },
    {
     "data": {
      "image/png": "[encoded data removed]",
      "text/plain": [
       "<Figure size 360x360 with 1 Axes>"
      ]
     },
     "metadata": {
      "needs_background": "light"
     },
     "output_type": "display_data"
    },
    {
     "data": {
      "image/png": "[encoded data removed]",
      "text/plain": [
       "<Figure size 360x360 with 1 Axes>"
      ]
     },
     "metadata": {
      "needs_background": "light"
     },
     "output_type": "display_data"
    }
   ],
   "source": [
    "# Plot of distributions\n",
    "import seaborn as sns\n",
    "\n",
    "solutions = []\n",
    "\n",
    "for m in mer:\n",
    "    parameters['m'] = m\n",
    "    sol_case1 = optimize.minimize_scalar(\n",
    "    value_of_choice, bounds = None, args = (parameters))\n",
    "    h = sol_case1.x\n",
    "    c = budget_constraint(h, parameters)\n",
    "    solutions.append([m, h, c])\n",
    "\n",
    "solutions = pd.DataFrame(solutions, columns=[\"m\", \"h\", \"c\"])\n",
    "\n",
    "sns.displot(solutions, x=\"h\")\n",
    "sns.displot(solutions, x=\"c\")"
   ]
  },
  {
   "cell_type": "markdown",
   "id": "brave-turner",
   "metadata": {},
   "source": [
    "What is interesting from the plots above is the skewness of the distributions. This seems to be due to the tax schedule which has two tax brackets. That is, households \n",
    "\n",
    "are taxes differently depending on the public assessment of their house. As we also saw in problem 2, households stop buying more expensive houses when reaching the\n",
    "\n",
    "endowment region of rougly m = 0.72. Therefore, there is an outlier of households who buy houses of the approximate value of h = 6."
   ]
  },
  {
   "cell_type": "markdown",
   "id": "featured-success",
   "metadata": {},
   "source": [
    "**Problem 4 - Tax reform** \n",
    "\n",
    "Now, the government imposes a tax reform which alternates some of the given parameters. We implement the new parameters by creating a new dictionary."
   ]
  },
  {
   "cell_type": "code",
   "execution_count": 85,
   "id": "about-luxembourg",
   "metadata": {},
   "outputs": [
    {
     "name": "stdout",
     "output_type": "stream",
     "text": [
      "0.05711861105539854\n"
     ]
    }
   ],
   "source": [
    "# Create a dictionary containing the new parameters\n",
    "parameters_reform = {'phi': 0.3, 'eps': 0.8, 'r': 0.03, 'tau_g': 0.01, \n",
    "              'tau_p': 0.009, 'p_bar': 8, 'm': 0.5}\n",
    "\n",
    "solutions_reform_sim = []\n",
    "\n",
    "for m in m_sim:\n",
    "    parameters_reform['m'] = m\n",
    "    solution = optimize.minimize_scalar(\n",
    "    value_of_choice, bounds = None, args = (parameters_reform))\n",
    "    h = solution.x\n",
    "    c = budget_constraint(h, parameters_reform)\n",
    "    solutions_reform_sim.append(h)\n",
    "\n",
    "T_reform = 0\n",
    "for h in solutions_reform_sim:\n",
    "    T_reform+=parameters_reform['tau_g']*h + parameters_reform['tau_p']*max(h-parameters_reform['p_bar'], 0)\n",
    "\n",
    "t_reform = T_reform / N\n",
    "print(t_reform)"
   ]
  },
  {
   "cell_type": "markdown",
   "id": "accessible-liver",
   "metadata": {},
   "source": [
    "We see from t_reform that the average tax burden has decreased from 0.08 to 0.06.\n",
    "\n",
    "**Problem 5 - tax reform pt. 2**\n",
    "\n",
    "Now, the government wants to re-engineer the tax reform, such that the average tax burden is unchanged between the tax schedules. They want to do this by imposing the new parameters, while lowering $\\tau_g$, so the tax effects are offset. "
   ]
  },
  {
   "cell_type": "code",
   "execution_count": 102,
   "id": "suburban-photographer",
   "metadata": {},
   "outputs": [
    {
     "name": "stdout",
     "output_type": "stream",
     "text": [
      "for tau_g = 0.000000, t =  0.004453\n",
      "for tau_g = 0.001000, t =  0.010767\n",
      "for tau_g = 0.002000, t =  0.016819\n",
      "for tau_g = 0.003000, t =  0.022620\n",
      "for tau_g = 0.004000, t =  0.028177\n",
      "for tau_g = 0.005000, t =  0.033506\n",
      "for tau_g = 0.006000, t =  0.038621\n",
      "for tau_g = 0.007000, t =  0.043528\n",
      "for tau_g = 0.008000, t =  0.048238\n",
      "for tau_g = 0.009000, t =  0.052765\n",
      "for tau_g = 0.010000, t =  0.057119\n",
      "for tau_g = 0.011000, t =  0.061311\n",
      "for tau_g = 0.012000, t =  0.065345\n",
      "for tau_g = 0.013000, t =  0.069233\n",
      "for tau_g = 0.014000, t =  0.072981\n",
      "for tau_g = 0.015000, t =  0.076594\n",
      "for tau_g = 0.016000, t =  0.080079\n",
      "for tau_g = 0.017000, t =  0.083441\n",
      "for tau_g = 0.018000, t =  0.086688\n"
     ]
    }
   ],
   "source": [
    "taug_list = np.arange(0, 0.019, 0.001).tolist()\n",
    "parameters_reform_new = {'phi': 0.3, 'eps': 0.8, 'r': 0.03, 'tau_g': 0.012, 'tau_p': 0.009, 'p_bar': 8, 'm': 0.5}\n",
    "\n",
    "N_new = 10000\n",
    "seed = 420\n",
    "\n",
    "np.random.seed(seed)\n",
    "\n",
    "#Making an iterator variable, for tracking which iteration is running.\n",
    "iterator = 1\n",
    "\n",
    "#Generating new list of the m variable\n",
    "m_sim_new = np.random.lognormal(mean=-0.4,sigma=0.35,size=N_new).tolist()\n",
    "\n",
    "#Creating a pandas dataframe to store lists of h for different values of tau_g\n",
    "df = pd.DataFrame()\n",
    "\n",
    "#Running a loop for all the tau_g's in the tau_g list\n",
    "for tau_g in taug_list:\n",
    "    \n",
    "    #starting out with an empty array\n",
    "    solutions_reform_new = []\n",
    "\n",
    "    #changing the value of tau_g in the dictionary of parameters\n",
    "    parameters_reform_new['tau_g'] = tau_g\n",
    "    \n",
    "    #running a new for loop for the different values of m\n",
    "    for m in m_sim_new:\n",
    "        \n",
    "        #changing the values of m in the dictionary of parameters\n",
    "        parameters_reform_new['m'] = m\n",
    "        \n",
    "        solution = optimize.minimize_scalar(\n",
    "            value_of_choice, bounds = None, args = (parameters_reform_new))\n",
    "        h = solution.x\n",
    "        c = budget_constraint(h, parameters_reform_new)\n",
    "        solutions_reform_new.append(h)\n",
    "    \n",
    "    #After each iteration of the 2nd for loop the generated array of h is included in in the previously generated pandas dataframe, it is important that the solutions_nytest is emptied within the for-loop as seen above\n",
    "    df['h_' + str(iterator)] = solutions_reform_new\n",
    "    \n",
    "    #Reseting the T variable as the sum of T is done several times.\n",
    "    T = 0\n",
    "    #Running a new for-loop, still within the first, as different versions of tau_g is used. The iloc function is used in the for-loop with the iterator variable as the column index, reflecting which column of the pandas dataframe is used.\n",
    "    for h in df.iloc[:,iterator-1]:\n",
    "        T+=parameters_reform_new['tau_g']*h + parameters_reform_new['tau_p']*max(h-parameters_reform_new['p_bar'], 0)\n",
    "    print(f'for tau_g = {tau_g:3f}, t =  {T/N:4f}')\n",
    "    iterator +=1"
   ]
  },
  {
   "cell_type": "markdown",
   "id": "collective-alberta",
   "metadata": {},
   "source": [
    "Thus, for $\\tau_g=0.018$, the government obtains an unchanged average tax burden under the new tax schedule."
   ]
  }
 ],
 "metadata": {
  "kernelspec": {
   "display_name": "Python 3",
   "language": "python",
   "name": "python3"
  },
  "language_info": {
   "codemirror_mode": {
    "name": "ipython",
    "version": 3
   },
   "file_extension": ".py",
   "mimetype": "text/x-python",
   "name": "python",
   "nbconvert_exporter": "python",
   "pygments_lexer": "ipython3",
   "version": "3.8.5"
  },
  "toc-autonumbering": false
 },
 "nbformat": 4,
 "nbformat_minor": 5
}