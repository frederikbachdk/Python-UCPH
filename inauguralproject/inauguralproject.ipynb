{
 "cells": [
  {
   "cell_type": "markdown",
   "id": "checked-gather",
   "metadata": {},
   "source": [
    "# Inaugural Project - Housing demand and taxation\n",
    "### Introduction to Programming and Numerical Analysis\n",
    "\n",
    "**University of Copenhagen, 21 March 2021**\n",
    "\n",
    "Hand-in by Magnus Bugge, Jens Brøndum Petersen, and Frederik Bach\n",
    "\n",
    "# Housing demand and taxation\n",
    "\n",
    "We consider a household looking to buy a home. The household is endowed with an amount of cash-on-hand, $m$, that may spent on housing as well as other consumption $c$. The household derives utility from housing by a measure of its quality, $h$. A home of quality $h$ has the price $ph$ and is subject to progressive taxation and mortgage costs, summarized by the function $\\tau(\\cdot)$. The objective of the household is therefore to choose optimal amounts of housing and consumption.\n",
    "\n",
    "# Problem 1 - Household utility maximization \n",
    "\n",
    "The representative household's problem is given by:\n",
    "\n",
    "$$c^*, h^* = \\arg \\underset{c,h}{\\max} c^{1-\\phi}h^\\phi \\\\\n",
    "                s.t. \\\\\n",
    "    \\tilde{p}_h = p_h\\varepsilon \\\\\n",
    "              m = \\tau(p_h,\\tilde{p}_h)+c \\\\\n",
    "\\tau(p_h,\\tilde{p}_h = rp_h+\\tau^h\\tilde{p}_h+\\tau^p\\max\\{\\tilde{p}_h-\\bar{p},0\\}$$ "
   ]
  },
  {
   "cell_type": "markdown",
   "id": "joint-diana",
   "metadata": {},
   "source": [
    "We take as given the default parameters: \n",
    "$\\phi = 0.3, \\varepsilon = 0.5, r = 0.03, \\tau^g = 0.012, \\tau^g = 0.004, \n",
    "\\bar{p} = 3$\n",
    "\n",
    "The parameters are defined in the dictionary 'parameters' in the code section below, and the maximization procedure is explained step-by-step in the code."
   ]
  },
  {
   "cell_type": "code",
   "execution_count": 9,
   "id": "senior-triple",
   "metadata": {},
   "outputs": [
    {
     "name": "stdout",
     "output_type": "stream",
     "text": [
      "\n",
      "The household chooses c = 0.35 units of consumption and a house of quality h = 4.17\n",
      "The utility derived from the optimal consumption bundle is u(0.35, 4.17) = 0.74\n"
     ]
    }
   ],
   "source": [
    "# import numpy for array operations, pyplot for plots, and the scipy optimize module for optimization\n",
    "import numpy as np\n",
    "from scipy import optimize\n",
    "\n",
    "# create a dictionary containing the parameters given\n",
    "parameters = {'phi': 0.3, 'eps': 0.5, 'r': 0.03, 'tau_g': 0.012, \n",
    "              'tau_p': 0.004, 'p_bar': 3, 'm': 0.5}\n",
    "\n",
    "\n",
    "# now, we construct the utility function along with the maximization constraints as individual functions\n",
    "def utility_function(c, h, parameters):\n",
    "    \"\"\" Defines utility function based on consumption bundle and parameters        \n",
    "    \n",
    "    Args:\n",
    "        c (float): amount of consumption in non-housing goods \n",
    "        h (float): housing consumption\n",
    "        parameters (dict): dictionary of parameters wrt. policy and preferences\n",
    "        \n",
    "    Returns:\n",
    "        u (float): utility        \n",
    "    \"\"\"\n",
    "\n",
    "    u = c**(1-parameters['phi']) * h**parameters['phi']\n",
    "    return u\n",
    "\n",
    "\n",
    "def taxes_paid(h, parameters):\n",
    "    \"\"\" Calculates the cash amount of taxes paid by the individual household given the choice of house quality      \n",
    "    \n",
    "    Args:\n",
    "        h (float): housing consumption\n",
    "        parameters (dict): dictionary of parameters wrt. policy and preferences\n",
    "        \n",
    "    Returns:\n",
    "        taxes (float): cash amount of taxes paid\n",
    "    \"\"\"\n",
    "    \n",
    "    taxes = parameters['r'] * h + parameters['tau_g'] * h * parameters['eps'] + parameters['tau_p'] * max(h * parameters['eps'] - parameters['p_bar'], 0)\n",
    "    return taxes\n",
    "    \n",
    "    \n",
    "def budget_constraint(h, parameters):\n",
    "    \"\"\" Defines the budget constraint of the household, which says that consumption is equal to the cash-on-hand minus tax expenditure   \n",
    "    \n",
    "    Args:\n",
    "        h (float): housing consumption\n",
    "        parameters (dict): dictionary of parameters wrt. policy and preferences\n",
    "        \n",
    "    Returns:\n",
    "        c (float): the upper limit (budget constraint) for consumption in non-housing goods\n",
    "    \"\"\" \n",
    "    \n",
    "    c = parameters['m'] - taxes_paid(h, parameters)\n",
    "    return c\n",
    "\n",
    "# we define the objective function (maximize it by minimizing the negative utility function)\n",
    "def value_of_choice(h, parameters):\n",
    "    \"\"\" Defines the objective function to be optimized\n",
    "    \n",
    "    Args:\n",
    "        h (float): housing consumption\n",
    "        parameters (dict): dictionary of parameters wrt. policy and preferences\n",
    "        \n",
    "    Returns:\n",
    "        -utility_function (float): the negative of the implied utility from consumption c and h\n",
    "    \"\"\" \n",
    "\n",
    "    c = budget_constraint(h, parameters)\n",
    "    return -utility_function(c, h, parameters)\n",
    "\n",
    "\n",
    "# use the optimizer from the scipy package to optimize value_of_choice\n",
    "def solver(parameters):\n",
    "    \"\"\" Solves the household's utility maximization problem given the parameters\n",
    "    Args:\n",
    "        parameters (dict): dictionary of parameters wrt. policy and preferences\n",
    "        \n",
    "    Returns:\n",
    "        h (float): optimal choice of housing\n",
    "    \"\"\" \n",
    "    solution = optimize.minimize_scalar(\n",
    "    value_of_choice, bounds = None, args = (parameters))\n",
    "    h = solution.x\n",
    "    return h\n",
    "\n",
    "# save the optimal consumption bundle and the implied utility the variables h, c, and u\n",
    "h = solver(parameters)\n",
    "c = budget_constraint(h, parameters)\n",
    "u = utility_function(c, h, parameters)\n",
    "\n",
    "# print the solution\n",
    "print(f'\\nThe household chooses c = {c:.2f} units of consumption and a house of quality h = {h:.2f}')\n",
    "print(f'The utility derived from the optimal consumption bundle is u({c:.2f}, {h:.2f}) = {u:.2f}')"
   ]
  },
  {
   "cell_type": "markdown",
   "id": "secret-discount",
   "metadata": {},
   "source": [
    "# Problem 2 - Plot of c* and h* as functions of m in the range 0.4 to 1.5"
   ]
  },
  {
   "cell_type": "code",
   "execution_count": 15,
   "id": "enhanced-berry",
   "metadata": {},
   "outputs": [
    {
     "name": "stdout",
     "output_type": "stream",
     "text": [
      "        m          h       c\n",
      "0    0.40   3.333333  0.2800\n",
      "1    0.41   3.416667  0.2870\n",
      "2    0.42   3.500000  0.2940\n",
      "3    0.43   3.583333  0.3010\n",
      "4    0.44   3.666667  0.3080\n",
      "..    ...        ...     ...\n",
      "105  1.45  11.542105  1.0234\n",
      "106  1.46  11.621053  1.0304\n",
      "107  1.47  11.700000  1.0374\n",
      "108  1.48  11.778948  1.0444\n",
      "109  1.49  11.857895  1.0514\n",
      "\n",
      "[110 rows x 3 columns]\n",
      "\n",
      "\n"
     ]
    },
    {
     "data": {
      "image/png": "[encoded data removed]",
      "text/plain": [
       "<Figure size 432x288 with 1 Axes>"
      ]
     },
     "metadata": {
      "needs_background": "light"
     },
     "output_type": "display_data"
    }
   ],
   "source": [
    "# import the pandas package for dataframe\n",
    "import pandas as pd\n",
    "\n",
    "# define a range of endowments, m, to be iterated over\n",
    "m_range = np.arange(0.4, 1.5, 0.01).tolist()\n",
    "\n",
    "# initialize an empty array\n",
    "solutions = []\n",
    "\n",
    "# use the optimization algorithm from problem 1 for all m's in m_range\n",
    "for m in m_range:\n",
    "    parameters['m'] = m\n",
    "    h = solver(parameters)\n",
    "    c = budget_constraint(h, parameters)\n",
    "    solutions.append([m, h, c])\n",
    "\n",
    "# save the solutions in a pandas dataframe and print it\n",
    "solutions = pd.DataFrame(solutions, columns=[\"m\", \"h\", \"c\"])\n",
    "print(solutions)\n",
    "print('\\n')\n",
    "\n",
    "# Now, after obtaining a dataframe of 110 solutions to the household's problem, we plot it using the matplotlib package\n",
    "import matplotlib.pyplot as plt\n",
    "\n",
    "# plot the solution dataframe\n",
    "m_axis = plt.gca()\n",
    "solutions.plot(x = 'm', y = 'h', ax = m_axis, title = 'Figure 1: Optimal consumption bundles');\n",
    "solutions.plot(x = 'm', y = 'c', ax = m_axis, color = 'red');\n",
    "plt.ylabel('Units of housing (h)')\n",
    "plt.xlabel('Units of cash-in-hand (m)')\n",
    "plt.show()"
   ]
  },
  {
   "cell_type": "markdown",
   "id": "comparable-combat",
   "metadata": {},
   "source": [
    "From figure 1, we see that the consumption bundle is increasing in both goods for increasing endowments, which is a result of the monotonous utility function. What is interesting here is that around the endowment m = 0.72, the households begin buying houses that are taxed in the higher tax bracket. Initially, this causes the households to being reluctant on buying more expensive houses, since the marginal utility on consumption is higher. However, when the endowment reaches a certain point, the households again begin buying more and more expensive houses."
   ]
  },
  {
   "cell_type": "markdown",
   "id": "persistent-calgary",
   "metadata": {},
   "source": [
    "# Problem 3 - Average tax burden\n",
    "\n",
    "Here, we calculate the average tax burden among 10,000 households assuming that cash endowments follow a log-normal distribution."
   ]
  },
  {
   "cell_type": "code",
   "execution_count": null,
   "id": "considered-livestock",
   "metadata": {},
   "outputs": [],
   "source": [
    "# set the number of households and the seed number\n",
    "N = 10000\n",
    "seed = 1\n",
    "\n",
    "# draw list of 10,000 cash endowments from the lognormal distributions\n",
    "from statistics import mean\n",
    "np.random.seed(seed)\n",
    "m_sim = np.random.lognormal(mean = -0.4,sigma = 0.35,size = N).tolist()\n",
    "\n",
    "def tax_burden(h, parameters):\n",
    "    \"\"\" Calculates the cash amount of taxes paid by the individual household given the choice of house quality      \n",
    "    \n",
    "    Args:\n",
    "        h (float): housing consumption\n",
    "        parameters (dict): dictionary of parameters wrt. policy and preferences\n",
    "        \n",
    "    Returns:\n",
    "        taxes (float): cash amount of taxes paid\n",
    "    \"\"\"\n",
    "    return parameters['tau_g'] * h * parameters['eps'] + parameters['tau_p'] * max(h * parameters['eps'] - parameters['p_bar'], 0)\n",
    "\n",
    "# calculate the average tax burden\n",
    "household_tax = []\n",
    "for m in m_sim:\n",
    "    parameters['m'] = m\n",
    "    h = solver(parameters)\n",
    "    household_tax.append(tax_burden(h, parameters)) \n",
    "\n",
    "avg_tax_burden = mean(household_tax)\n",
    "print(f'\\n The average household pays {avg_tax_burden:.4f} of its cash endowment as taxes.\\n')\n",
    "\n",
    "# Now, we plot the distributions of h and c given the simulations of the cash endowment.\n",
    "\n",
    "import seaborn as sns\n",
    "\n",
    "solutions = []\n",
    "\n",
    "for m in m_sim:\n",
    "    parameters['m'] = m\n",
    "    h = solver(parameters)\n",
    "    c = budget_constraint(h, parameters)\n",
    "    solutions.append([m, h, c])\n",
    "\n",
    "solutions = pd.DataFrame(solutions, columns=[\"m\", \"h\", \"c\"])\n",
    "\n",
    "sns.displot(solutions, x=\"h\")\n",
    "plt.xlabel(\"Units of housing (h)\")\n",
    "plt.show()\n",
    "\n",
    "sns.displot(solutions, x=\"c\")\n",
    "plt.xlabel(\"Units of consumption (h)\")\n",
    "plt.show()"
   ]
  },
  {
   "cell_type": "markdown",
   "id": "requested-think",
   "metadata": {},
   "source": [
    "What is interesting from the plots is that households stop buying more expensive houses when reaching the endowment region of rougly m = 0.72. Therefore, there is an outlier of households who buy houses of the approximate value of h = 6."
   ]
  },
  {
   "cell_type": "markdown",
   "id": "iraqi-viking",
   "metadata": {},
   "source": [
    "# Problem 4 - Tax reform\n",
    "\n",
    "Now, the government imposes a tax reform which alternates some of the given parameters. We implement the new parameters by creating a new dictionary, and running the optimization algorithm on the N households with different cash endowments."
   ]
  },
  {
   "cell_type": "code",
   "execution_count": 4,
   "id": "remarkable-insertion",
   "metadata": {},
   "outputs": [
    {
     "name": "stdout",
     "output_type": "stream",
     "text": [
      "\n",
      "The average household pays 0.0450 of its cash endowment as taxes under the new tax schedule.\n",
      "This means that the tax reform has increased the average tax burden by 0.009.\n"
     ]
    }
   ],
   "source": [
    "# Create a dictionary containing the new parameters\n",
    "parameters_reform = {'phi': 0.3, 'eps': 0.8, 'r': 0.03, 'tau_g': 0.01, \n",
    "              'tau_p': 0.009, 'p_bar': 8, 'm': 0.5}\n",
    "\n",
    "household_tax_reform = []\n",
    "for m in m_sim:\n",
    "    parameters_reform['m'] = m\n",
    "    h = solver(parameters_reform)\n",
    "    household_tax_reform.append(tax_burden(h, parameters_reform)) \n",
    "\n",
    "avg_tax_burden_reform = mean(household_tax_reform)\n",
    "print(f'\\nThe average household pays {avg_tax_burden_reform:.4f} of its cash endowment as taxes under the new tax schedule.')\n",
    "print(f'This means that the tax reform has increased the average tax burden by {avg_tax_burden_reform - avg_tax_burden:.3f}.')"
   ]
  },
  {
   "cell_type": "markdown",
   "id": "fourth-arbitration",
   "metadata": {},
   "source": [
    "# Problem 5 - re-engineering the tax reform\n",
    "\n",
    "Now, the government wants to re-engineer the tax reform, such that the average tax burden is unchanged between the tax schedules. They want to do this by imposing the new parameters, while lowering $\\tau_g$, so the tax effects are offset. We solve this by creating a while-loop, which changes iterates over different values of $\\tau_g$, until it finds a value of $\\tau_g$ that gives a tax burden equal to the one before the tax reform."
   ]
  },
  {
   "cell_type": "code",
   "execution_count": 25,
   "id": "floppy-spectrum",
   "metadata": {},
   "outputs": [
    {
     "name": "stdout",
     "output_type": "stream",
     "text": [
      "With tau_g = 0.0078, the tax burden is 0.0363, which is equal to that of the original tax schedule.\n"
     ]
    }
   ],
   "source": [
    "parameters_reform_new = {'phi': 0.3, 'eps': 0.8, 'r': 0.03, 'tau_g': 0.01, \n",
    "              'tau_p': 0.009, 'p_bar': 8, 'm': 0.5}\n",
    "\n",
    "tau_g_iter = np.arange(0, 0.019, 0.00001).tolist()\n",
    "\n",
    "# set the number of households and the seed number\n",
    "N_new = 10\n",
    "np.random.seed(seed)\n",
    "\n",
    "# draw list of 10 cash endowments from the lognormal distribution\n",
    "m_sim_new = np.random.lognormal(mean = -0.4,sigma = 0.35,size = N_new).tolist()\n",
    "\n",
    "# reset the average tax burden to zero\n",
    "avg_tax_burden_reform = 0 \n",
    "\n",
    "# iterate over different values of tau_g to find one that equalizes the tax burden between the tax schedules\n",
    "while avg_tax_burden_reform < avg_tax_burden:\n",
    "    for tau_g in tau_g_iter:\n",
    "        parameters_reform_new['tau_g'] = tau_g\n",
    "        household_tax_reform = []\n",
    "\n",
    "        for m in m_sim_new:\n",
    "            parameters_reform_new['m'] = m\n",
    "            h = solver(parameters_reform_new)\n",
    "            household_tax_reform.append(tax_burden(h, parameters_reform_new))\n",
    "    \n",
    "        avg_tax_burden_reform = mean(household_tax_reform)\n",
    "        if(avg_tax_burden_reform >= avg_tax_burden):    \n",
    "            break\n",
    "\n",
    "print(f'With tau_g = {tau_g:.4f}, the tax burden is {avg_tax_burden_reform:.4f}, which is equal to that of the original tax schedule.')"
   ]
  },
  {
   "cell_type": "markdown",
   "id": "known-communications",
   "metadata": {},
   "source": [
    "Thus, for $\\tau_g=0.0078$, the government obtains an unchanged average tax burden under the new tax schedule."
   ]
  },
  {
   "cell_type": "markdown",
   "id": "subsequent-secretariat",
   "metadata": {},
   "source": [
    "# Conclusion\n",
    "\n",
    "As a concluding remark, we note that tax reform to be implemented i 2024 will, under some assumptions, increase the the average tax burden of the Danish households. It is important to interpret this conclusion with some caution due to the distributional assumptions and the assumption of homogenous, Cobb-Douglas utility maximizing households.\n",
    "\n",
    "One of the main insights from the analysis is that the government is indeed able to maintain the previously known (average) tax burden between the two tax schedules. This is done by lowering $\\tau_g$, which is the base tax rate paid by households."
   ]
  }
 ],
 "metadata": {
  "kernelspec": {
   "display_name": "Python 3",
   "language": "python",
   "name": "python3"
  },
  "language_info": {
   "codemirror_mode": {
    "name": "ipython",
    "version": 3
   },
   "file_extension": ".py",
   "mimetype": "text/x-python",
   "name": "python",
   "nbconvert_exporter": "python",
   "pygments_lexer": "ipython3",
   "version": "3.8.5"
  },
  "toc-autonumbering": true
 },
 "nbformat": 4,
 "nbformat_minor": 5
}
